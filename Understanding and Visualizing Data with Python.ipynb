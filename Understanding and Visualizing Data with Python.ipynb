{
 "cells": [
  {
   "cell_type": "code",
   "execution_count": null,
   "metadata": {},
   "outputs": [],
   "source": []
  },
  {
   "cell_type": "markdown",
   "metadata": {},
   "source": [
    "Generating Random Data and Samples"
   ]
  },
  {
   "cell_type": "markdown",
   "metadata": {},
   "source": [
    "Question 1:\n",
    "In the code block below, generate 3 normal random variables with mean 100 and standard deviation 1.\n",
    "\n",
    "This will require about 4 lines of code. Use the functions provided in this outline.\n",
    "\n",
    "Import the numpy library Set the seed to 123 to initialize environment so random variables are replicated according to the grader. (hint: np.random.seed(?)) Generate three random normal variables with mean 100 and standard deviation 1 and assign them to a variable named sample. (hint: sample = np.random.normal(?,?,?)) Print the variable sample. The question marks in the hints indicate input parameters.\n",
    "\n",
    "Choose the answer that matches your result to three decimal places.\n",
    "\n",
    "Reference Documentation\n",
    "\n",
    "https://docs.scipy.org/doc/numpy-1.15.1/reference/generated/numpy.random.seed.html\n",
    "https://docs.scipy.org/doc/numpy-1.15.1/reference/generated/numpy.random.normal.html"
   ]
  },
  {
   "cell_type": "code",
   "execution_count": null,
   "metadata": {},
   "outputs": [],
   "source": [
    "#Solution For Question 1\n",
    "import numpy as np\n",
    "np.random.seed(123)\n",
    "sample = np.random.normal(100,1,3)\n",
    "print(sample)"
   ]
  },
  {
   "cell_type": "markdown",
   "metadata": {},
   "source": [
    "Question 2:\n",
    "Generating random samples from a population lies at the heart of statistics. In the code block below, draw a sample of size 10 from a set containing the integers 1 through 100.\n",
    "\n",
    "This will require about 5 lines of code. Use the functions provided in this outline.\n",
    "\n",
    "Import the numpy library Set the seed to 123 to initialize environment so random variables are replicated according to the grader. (hint: np.random.seed(?)) Create a vector called population, and put the numbers 1-100 into the population list. (hint: np.arange(?,?)) Generate a sample with length 10 from the population. (hint: sample = np.random.choice(?, ?)) and assign the output to a variable named sample. Print the variable sample. The question marks in the hints above indicate input parameters.\n",
    "\n",
    "Reference Documentation\n",
    "\n",
    "https://docs.scipy.org/doc/numpy-1.15.1/reference/generated/numpy.random.seed.html \n",
    "https://docs.scipy.org/doc/numpy-1.15.1/reference/generated/numpy.arange.html \n",
    "https://docs.scipy.org/doc/numpy-1.15.1/reference/generated/numpy.random.choice.html"
   ]
  },
  {
   "cell_type": "code",
   "execution_count": null,
   "metadata": {},
   "outputs": [],
   "source": [
    "#Solution for Question 2\n",
    "import numpy as np\n",
    "np.random.seed(123)\n",
    "population = np.arange(1,101)\n",
    "sample = np.random.choice(population, 10)\n",
    "print(sample)"
   ]
  }
 ],
 "metadata": {
  "kernelspec": {
   "display_name": "Python 3",
   "language": "python",
   "name": "python3"
  },
  "language_info": {
   "codemirror_mode": {
    "name": "ipython",
    "version": 3
   },
   "file_extension": ".py",
   "mimetype": "text/x-python",
   "name": "python",
   "nbconvert_exporter": "python",
   "pygments_lexer": "ipython3",
   "version": "3.8.2"
  }
 },
 "nbformat": 4,
 "nbformat_minor": 4
}
